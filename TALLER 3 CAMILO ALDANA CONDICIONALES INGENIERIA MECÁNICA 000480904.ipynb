{
 "cells": [
  {
   "cell_type": "code",
   "execution_count": null,
   "id": "a1d68f0c",
   "metadata": {},
   "outputs": [],
   "source": [
    "# TALLER 3 CONDICIONALES\n",
    "## CAMILO JOSÉ ALDANA GARCÍA\n",
    "### camilo.aldanag@upb.edu.co\n",
    "### 000480904\n",
    "\n",
    "## TARIFA VIAJE DE TAXI\n",
    "\n",
    "print(\"Soy el taxista, nuestro viaje tiene un valor mínimo de $3000, dependiendo de cuanto tiempo l@ esper@ y de lo recorrido en el viaje se definirá el valor de este.\")\n",
    "\n",
    "base = 3000\n",
    "\n",
    "t = int(input(\"Cuánto tardó tu viaje?(min) \"))\n",
    "\n",
    "t_wait = 500 * t\n",
    "\n",
    "d = int(input(\"Cuántos km recorrieron en el viaje? \"))\n",
    "\n",
    "if d <= 10:\n",
    "    \n",
    "    d_r = 350 * d\n",
    "    \n",
    "elif  d <= 50:\n",
    "     \n",
    "    d_r = d_r + (d-50) * 300\n",
    "    \n",
    "else:\n",
    "    \n",
    "    d_r = d_r + 40 * 300 + (d-50) * 200\n",
    "    \n",
    "tarifa = base + t_wait + d_r\n",
    "          \n",
    "print(\"El costo de su viaje es:\")\n",
    "\n",
    "print(tarifa)\n",
    "          \n",
    "print(\".\")"
   ]
  }
 ],
 "metadata": {
  "kernelspec": {
   "display_name": "Python 3 (ipykernel)",
   "language": "python",
   "name": "python3"
  },
  "language_info": {
   "codemirror_mode": {
    "name": "ipython",
    "version": 3
   },
   "file_extension": ".py",
   "mimetype": "text/x-python",
   "name": "python",
   "nbconvert_exporter": "python",
   "pygments_lexer": "ipython3",
   "version": "3.11.2"
  }
 },
 "nbformat": 4,
 "nbformat_minor": 5
}
